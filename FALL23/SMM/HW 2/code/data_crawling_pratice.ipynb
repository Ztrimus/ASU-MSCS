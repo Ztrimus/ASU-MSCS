{
 "cells": [
  {
   "cell_type": "code",
   "execution_count": 16,
   "metadata": {},
   "outputs": [],
   "source": [
    "import pandas as pd\n",
    "from sklearn.tree import DecisionTreeClassifier, plot_tree\n",
    "from sklearn.model_selection import train_test_split\n",
    "\n",
    "# Load the dataset\n",
    "data = pd.read_csv('employee_data.csv')\n",
    "\n",
    "# Split the dataset into features and target\n",
    "X = data.drop('Status', axis=1)\n",
    "y = data['Status']\n",
    "\n",
    "# Split the dataset into training and testing sets\n",
    "X_train, X_test, y_train, y_test = train_test_split(X, y, test_size=0.3, random_state=1)\n",
    "\n",
    "# Create a decision tree classifier object\n",
    "clf = DecisionTreeClassifier()\n",
    "\n",
    "# Train the decision tree classifier on the training set\n",
    "clf.fit(X_train, y_train)\n",
    "\n",
    "# Predict the target values for the testing set\n",
    "y_pred = clf.predict(X_test)\n",
    "\n",
    "# Print the accuracy score of the model\n",
    "print(\"Accuracy:\", clf.score(X_test, y_test))\n",
    "\n",
    "# Plot the decision tree\n",
    "plot_tree(clf, feature_names=X.columns, class_names=clf.classes_)"
   ]
  },
  {
   "cell_type": "code",
   "execution_count": null,
   "metadata": {},
   "outputs": [],
   "source": []
  }
 ],
 "metadata": {
  "kernelspec": {
   "display_name": "social_media_data_analysis-Ac8B8BYa-py3.10",
   "language": "python",
   "name": "python3"
  },
  "language_info": {
   "codemirror_mode": {
    "name": "ipython",
    "version": 3
   },
   "file_extension": ".py",
   "mimetype": "text/x-python",
   "name": "python",
   "nbconvert_exporter": "python",
   "pygments_lexer": "ipython3",
   "version": "3.10.12"
  },
  "orig_nbformat": 4
 },
 "nbformat": 4,
 "nbformat_minor": 2
}
