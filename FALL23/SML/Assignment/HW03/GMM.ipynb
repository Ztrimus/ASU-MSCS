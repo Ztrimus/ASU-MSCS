{
 "cells": [
  {
   "cell_type": "code",
   "execution_count": null,
   "metadata": {},
   "outputs": [],
   "source": [
    "import pandas as pd\n",
    "import random\n",
    "import numpy as np\n",
    "import matplotlib.pyplot as plot"
   ]
  },
  {
   "cell_type": "code",
   "execution_count": null,
   "metadata": {},
   "outputs": [],
   "source": [
    "DATA_PATH = \"./CSE575-HW03-Data.csv\""
   ]
  },
  {
   "cell_type": "code",
   "execution_count": null,
   "metadata": {},
   "outputs": [],
   "source": [
    "#pd.options.display.max_rows = 128\n",
    "dataFrame = pd.read_csv(DATA_PATH, header=None)\n",
    "data = dataFrame.to_numpy()"
   ]
  },
  {
   "cell_type": "code",
   "execution_count": null,
   "metadata": {},
   "outputs": [],
   "source": [
    "dataFrame"
   ]
  },
  {
   "cell_type": "code",
   "execution_count": null,
   "metadata": {},
   "outputs": [],
   "source": [
    "data.shape"
   ]
  },
  {
   "cell_type": "code",
   "execution_count": null,
   "metadata": {},
   "outputs": [],
   "source": [
    "#numClusters is the number of clusters, d is the dimension of the data\n",
    "numClusters = 2\n",
    "d = data.shape[1]\n",
    "\n",
    "kmeans_centers =[ [90.89453636, -3.22270152, -1.14808939, -0.9751    , -5.1320803 ,\n",
    "       -2.41321061, -2.80382121, -1.19646212, -1.32201667,  0.33434242,\n",
    "        0.73901515,  1.05690152,  0.75381061] , [7.60080565e+01, -1.10158710e+00,  1.08728065e+00,  2.11840323e-01,\n",
    "       -3.08939677e+00, -8.95835484e-01, -1.85367097e+00,  2.11032258e-02,\n",
    "       -1.51439355e+00, -2.26920968e-01,  1.49911290e-01, -4.95998387e-01,\n",
    "        5.67758065e-02]]\n",
    "#initMeans = kmeans_centers\n",
    "#centers from k-means\n",
    "\n",
    "# initMeans are the initial means for GMM, where kmeans_centers are the K means returned by K-means clustering implemented in Problem 2 of HW03.\n",
    "initMeans = kmeans_centers\n",
    "\n",
    "#initCovariances are the initial covariance matrices for GMM\n",
    "initCovariances = np.zeros([d,d,numClusters])\n",
    "\n",
    "#initPriors are initial mixing coefficients for GMM\n",
    "initPriors = np.zeros(numClusters)\n",
    "\n",
    "for k in range(numClusters):\n",
    "    #cluster_size is the array containing the size of every cluster produced by K-means clustering implemented in Problem 2\n",
    "    \n",
    "    initPriors[k] = cluster_size[k]/data.shape[0]\n",
    "\n",
    "    initCovariances[:,:,k] = np.identity(data.shape[1])\n",
    "    \n",
    "    print(initPriors[k])\n"
   ]
  },
  {
   "cell_type": "code",
   "execution_count": null,
   "metadata": {},
   "outputs": [],
   "source": [
    "#Your implementation of GMM starts here."
   ]
  }
 ],
 "metadata": {
  "kernelspec": {
   "display_name": "Python 3 (ipykernel)",
   "language": "python",
   "name": "python3"
  },
  "language_info": {
   "codemirror_mode": {
    "name": "ipython",
    "version": 3
   },
   "file_extension": ".py",
   "mimetype": "text/x-python",
   "name": "python",
   "nbconvert_exporter": "python",
   "pygments_lexer": "ipython3",
   "version": "3.9.7"
  }
 },
 "nbformat": 4,
 "nbformat_minor": 2
}
